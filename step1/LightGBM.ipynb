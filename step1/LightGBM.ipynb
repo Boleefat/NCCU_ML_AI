{
 "cells": [
  {
   "cell_type": "markdown",
   "id": "d96080f8",
   "metadata": {},
   "source": [
    "**做了四個方法**\n",
    "**效果都很差**\n",
    "\n",
    "1.SVM\n",
    "\n",
    "2.SVM + SMOTE\n",
    "\n",
    "3.SVM + PCA_80_35 \n",
    "\n",
    "4.SVM + PCA_90_44\n",
    "\n",
    "5.SVM + PCA_80_35 + SMOTE\n",
    "\n",
    "6.SVM + PCA_90_44 + SMOTE"
   ]
  },
  {
   "cell_type": "markdown",
   "id": "f3d80083",
   "metadata": {},
   "source": [
    "# import"
   ]
  },
  {
   "cell_type": "code",
   "execution_count": 30,
   "id": "3d3545da",
   "metadata": {},
   "outputs": [],
   "source": [
    "import pandas as pd\n",
    "from sklearn.model_selection import train_test_split\n",
    "from sklearn.svm import SVC\n",
    "from sklearn.metrics import classification_report, confusion_matrix\n",
    "from sklearn.preprocessing import StandardScaler\n",
    "from imblearn.over_sampling import SMOTE\n",
    "import warnings\n",
    "from sklearn.model_selection import train_test_split, GridSearchCV\n",
    "from sklearn.svm import SVC\n",
    "from sklearn.preprocessing import StandardScaler\n",
    "from sklearn.metrics import classification_report, confusion_matrix, f1_score\n",
    "from imblearn.over_sampling import SMOTE\n",
    "import warnings"
   ]
  },
  {
   "cell_type": "markdown",
   "id": "3cac3e4c",
   "metadata": {},
   "source": [
    "# read file"
   ]
  },
  {
   "cell_type": "code",
   "execution_count": 2,
   "id": "fbd9623c",
   "metadata": {},
   "outputs": [],
   "source": [
    "file_path = \"../data/filled_data_label_numeric.xlsx\"\n",
    "filled_data_label_numeric_df = pd.read_excel(file_path,engine='openpyxl')"
   ]
  },
  {
   "cell_type": "markdown",
   "id": "c4e6bba1",
   "metadata": {},
   "source": [
    "# 1. SVM"
   ]
  },
  {
   "cell_type": "markdown",
   "id": "f85f9acb",
   "metadata": {},
   "source": [
    "沒有使用平衡處理的情況下，所有目標都被當成0"
   ]
  },
  {
   "cell_type": "code",
   "execution_count": 24,
   "id": "3e4ab401",
   "metadata": {},
   "outputs": [
    {
     "name": "stdout",
     "output_type": "stream",
     "text": [
      "📊 混淆矩陣：\n",
      "[[796   0]\n",
      " [  8   0]]\n",
      "\n",
      "📄 分類報告：\n",
      "              precision    recall  f1-score   support\n",
      "\n",
      "  Normal (0)       0.99      1.00      0.99       796\n",
      "Abnormal (1)       0.00      0.00      0.00         8\n",
      "\n",
      "    accuracy                           0.99       804\n",
      "   macro avg       0.50      0.50      0.50       804\n",
      "weighted avg       0.98      0.99      0.99       804\n",
      "\n"
     ]
    },
    {
     "name": "stderr",
     "output_type": "stream",
     "text": [
      "c:\\Users\\User\\AppData\\Local\\Programs\\Python\\Python313\\Lib\\site-packages\\sklearn\\metrics\\_classification.py:1565: UndefinedMetricWarning: Precision is ill-defined and being set to 0.0 in labels with no predicted samples. Use `zero_division` parameter to control this behavior.\n",
      "  _warn_prf(average, modifier, f\"{metric.capitalize()} is\", len(result))\n",
      "c:\\Users\\User\\AppData\\Local\\Programs\\Python\\Python313\\Lib\\site-packages\\sklearn\\metrics\\_classification.py:1565: UndefinedMetricWarning: Precision is ill-defined and being set to 0.0 in labels with no predicted samples. Use `zero_division` parameter to control this behavior.\n",
      "  _warn_prf(average, modifier, f\"{metric.capitalize()} is\", len(result))\n",
      "c:\\Users\\User\\AppData\\Local\\Programs\\Python\\Python313\\Lib\\site-packages\\sklearn\\metrics\\_classification.py:1565: UndefinedMetricWarning: Precision is ill-defined and being set to 0.0 in labels with no predicted samples. Use `zero_division` parameter to control this behavior.\n",
      "  _warn_prf(average, modifier, f\"{metric.capitalize()} is\", len(result))\n"
     ]
    }
   ],
   "source": [
    "# ===== 1. 特徵與目標 =====\n",
    "X = filled_data_label_numeric_df.drop(columns=['abnormal_target'])\n",
    "y = filled_data_label_numeric_df['abnormal_target']\n",
    "\n",
    "# ===== 2. 資料標準化 =====\n",
    "scaler = StandardScaler()\n",
    "X_scaled = scaler.fit_transform(X)\n",
    "\n",
    "# ===== 3. 切分訓練與測試資料 =====\n",
    "X_train, X_test, y_train, y_test = train_test_split(X_scaled, y, test_size=0.2, random_state=42, stratify=y)\n",
    "\n",
    "# ===== 4. 建立 SVM 模型 =====\n",
    "svm_model = SVC(kernel='rbf')  \n",
    "svm_model.fit(X_train, y_train)\n",
    "\n",
    "# ===== 5. 預測 =====\n",
    "y_pred = svm_model.predict(X_test)\n",
    "\n",
    "# ===== 6. 評估模型表現 =====\n",
    "print(\"📊 混淆矩陣：\")\n",
    "print(confusion_matrix(y_test, y_pred))\n",
    "print(\"\\n📄 分類報告：\")\n",
    "print(classification_report(y_test, y_pred, target_names=[\"Normal (0)\", \"Abnormal (1)\"]))"
   ]
  },
  {
   "cell_type": "markdown",
   "id": "9e1d8f74",
   "metadata": {},
   "source": [
    "# 2. SVM + SMOTE"
   ]
  },
  {
   "cell_type": "markdown",
   "id": "2e52de8a",
   "metadata": {},
   "source": [
    "成功抓出來的1從0變成2，但還是有6個1沒有被抓出來"
   ]
  },
  {
   "cell_type": "code",
   "execution_count": 32,
   "id": "528c3f68",
   "metadata": {},
   "outputs": [
    {
     "name": "stdout",
     "output_type": "stream",
     "text": [
      "📊 混淆矩陣：\n",
      "[[796   0]\n",
      " [  6   2]]\n",
      "\n",
      "📄 分類報告：\n",
      "              precision    recall  f1-score   support\n",
      "\n",
      "  Normal (0)       0.99      1.00      1.00       796\n",
      "Abnormal (1)       1.00      0.25      0.40         8\n",
      "\n",
      "    accuracy                           0.99       804\n",
      "   macro avg       1.00      0.62      0.70       804\n",
      "weighted avg       0.99      0.99      0.99       804\n",
      "\n"
     ]
    }
   ],
   "source": [
    "# ===== 1. 特徵與目標 =====\n",
    "X = filled_data_label_numeric_df.drop(columns=['abnormal_target'])\n",
    "y = filled_data_label_numeric_df['abnormal_target']\n",
    "\n",
    "# ===== 2. 資料標準化 =====\n",
    "scaler = StandardScaler()\n",
    "X_scaled = scaler.fit_transform(X)\n",
    "\n",
    "# ===== 3. 切分訓練與測試資料 =====\n",
    "X_train, X_test, y_train, y_test = train_test_split(\n",
    "    X_scaled, y, test_size=0.2, random_state=42, stratify=y)\n",
    "\n",
    "# ===== 4. 套用 SMOTE 做過採樣（只對訓練集做）=====\n",
    "smote = SMOTE(random_state=42)\n",
    "X_train_resampled, y_train_resampled = smote.fit_resample(X_train, y_train)\n",
    "\n",
    "# ===== 5. 建立 SVM 模型 =====\n",
    "svm_model = SVC(kernel='rbf')\n",
    "svm_model.fit(X_train_resampled, y_train_resampled)\n",
    "\n",
    "# ===== 6. 預測 =====\n",
    "y_pred = svm_model.predict(X_test)\n",
    "\n",
    "# ===== 7. 評估模型表現 =====\n",
    "print(\"📊 混淆矩陣：\")\n",
    "print(confusion_matrix(y_test, y_pred))\n",
    "print(\"\\n📄 分類報告：\")\n",
    "print(classification_report(y_test, y_pred, target_names=[\"Normal (0)\", \"Abnormal (1)\"]))"
   ]
  },
  {
   "cell_type": "markdown",
   "id": "5a5b541a",
   "metadata": {},
   "source": [
    "# 3. SVM + PCA80_35"
   ]
  },
  {
   "cell_type": "markdown",
   "id": "37bf8db5",
   "metadata": {},
   "source": [
    "用了PCA後，一樣都變認不出來"
   ]
  },
  {
   "cell_type": "code",
   "execution_count": null,
   "id": "62be3416",
   "metadata": {},
   "outputs": [],
   "source": [
    "PCA80_35_df = pd.read_csv(\"../data/PCA80_35.csv\")\n",
    "file_path = \"../data/filled_data_label_numeric.xlsx\"\n",
    "filled_data_label_numeric_df = pd.read_excel(file_path,engine='openpyxl')"
   ]
  },
  {
   "cell_type": "code",
   "execution_count": 45,
   "id": "e9ed9a58",
   "metadata": {},
   "outputs": [
    {
     "name": "stdout",
     "output_type": "stream",
     "text": [
      "📊 混淆矩陣：\n",
      "[[796   0]\n",
      " [  8   0]]\n",
      "\n",
      "📄 分類報告：\n",
      "              precision    recall  f1-score   support\n",
      "\n",
      "  Normal (0)       0.99      1.00      0.99       796\n",
      "Abnormal (1)       0.00      0.00      0.00         8\n",
      "\n",
      "    accuracy                           0.99       804\n",
      "   macro avg       0.50      0.50      0.50       804\n",
      "weighted avg       0.98      0.99      0.99       804\n",
      "\n",
      "🎯 F1-score（macro）: 0.4975\n"
     ]
    }
   ],
   "source": [
    "# ===== 1. 特徵與目標（用 PCA80_35 當 X，原始表單取 y）=====\n",
    "X = PCA80_35_df  # 降維後的特徵\n",
    "y = filled_data_label_numeric_df['abnormal_target']  # 原始目標值\n",
    "\n",
    "# ===== 2. 資料標準化（視情況你也可以不做，但通常會更穩定）=====\n",
    "scaler = StandardScaler()\n",
    "X_scaled = scaler.fit_transform(X)\n",
    "\n",
    "# ===== 3. 切分訓練與測試資料 =====\n",
    "X_train, X_test, y_train, y_test = train_test_split(\n",
    "    X_scaled, y, test_size=0.2, random_state=42, stratify=y)\n",
    "\n",
    "# ===== 4. 建立 SVM 模型（不加 class_weight）=====\n",
    "svm_model = SVC(kernel='rbf', probability=True)\n",
    "svm_model.fit(X_train, y_train)\n",
    "\n",
    "# ===== 5. 預測 =====\n",
    "y_pred = svm_model.predict(X_test)\n",
    "\n",
    "# ===== 6. 評估 =====\n",
    "print(\"📊 混淆矩陣：\")\n",
    "print(confusion_matrix(y_test, y_pred))\n",
    "\n",
    "print(\"\\n📄 分類報告：\")\n",
    "print(classification_report(y_test, y_pred, target_names=[\"Normal (0)\", \"Abnormal (1)\"]))\n",
    "\n",
    "print(\"🎯 F1-score（macro）:\", f1_score(y_test, y_pred, average='macro'))"
   ]
  },
  {
   "cell_type": "markdown",
   "id": "b96605f8",
   "metadata": {},
   "source": [
    "# 4. SVM + PCA90_44"
   ]
  },
  {
   "cell_type": "markdown",
   "id": "88079970",
   "metadata": {},
   "source": [
    "用了PCA後，一樣都變認不出來"
   ]
  },
  {
   "cell_type": "code",
   "execution_count": null,
   "id": "684a7019",
   "metadata": {},
   "outputs": [],
   "source": [
    "PCA90_44_df = pd.read_csv(\"../data/PCA90_44.csv\")\n",
    "file_path = \"../data/filled_data_label_numeric.xlsx\"\n",
    "filled_data_label_numeric_df = pd.read_excel(file_path,engine='openpyxl')"
   ]
  },
  {
   "cell_type": "code",
   "execution_count": 48,
   "id": "63af6f90",
   "metadata": {},
   "outputs": [
    {
     "name": "stdout",
     "output_type": "stream",
     "text": [
      "📊 混淆矩陣：\n",
      "[[796   0]\n",
      " [  8   0]]\n",
      "\n",
      "📄 分類報告：\n",
      "              precision    recall  f1-score   support\n",
      "\n",
      "  Normal (0)       0.99      1.00      0.99       796\n",
      "Abnormal (1)       0.00      0.00      0.00         8\n",
      "\n",
      "    accuracy                           0.99       804\n",
      "   macro avg       0.50      0.50      0.50       804\n",
      "weighted avg       0.98      0.99      0.99       804\n",
      "\n",
      "🎯 F1-score（macro）: 0.4975\n"
     ]
    }
   ],
   "source": [
    "# ===== 1. 特徵與目標（用 PCA80_35 當 X，原始表單取 y）=====\n",
    "X = PCA90_44_df  # 降維後的特徵\n",
    "y = filled_data_label_numeric_df['abnormal_target']  # 原始目標值\n",
    "\n",
    "# ===== 2. 資料標準化（視情況你也可以不做，但通常會更穩定）=====\n",
    "scaler = StandardScaler()\n",
    "X_scaled = scaler.fit_transform(X)\n",
    "\n",
    "# ===== 3. 切分訓練與測試資料 =====\n",
    "X_train, X_test, y_train, y_test = train_test_split(\n",
    "    X_scaled, y, test_size=0.2, random_state=42, stratify=y)\n",
    "\n",
    "# ===== 4. 建立 SVM 模型（不加 class_weight）=====\n",
    "svm_model = SVC(kernel='rbf', probability=True)\n",
    "svm_model.fit(X_train, y_train)\n",
    "\n",
    "# ===== 5. 預測 =====\n",
    "y_pred = svm_model.predict(X_test)\n",
    "\n",
    "# ===== 6. 評估 =====\n",
    "print(\"📊 混淆矩陣：\")\n",
    "print(confusion_matrix(y_test, y_pred))\n",
    "\n",
    "print(\"\\n📄 分類報告：\")\n",
    "print(classification_report(y_test, y_pred, target_names=[\"Normal (0)\", \"Abnormal (1)\"]))\n",
    "\n",
    "print(\"🎯 F1-score（macro）:\", f1_score(y_test, y_pred, average='macro'))"
   ]
  },
  {
   "cell_type": "markdown",
   "id": "e41d2ba4",
   "metadata": {},
   "source": [
    "# 5. SVM + PCA80_35 + SMOTE"
   ]
  },
  {
   "cell_type": "markdown",
   "id": "9b7fe8a9",
   "metadata": {},
   "source": [
    "比不做SMOTE好一丟丟"
   ]
  },
  {
   "cell_type": "code",
   "execution_count": 49,
   "id": "25b8f945",
   "metadata": {},
   "outputs": [],
   "source": [
    "PCA80_35_df = pd.read_csv(\"../data/PCA80_35.csv\")\n",
    "file_path = \"../data/filled_data_label_numeric.xlsx\"\n",
    "filled_data_label_numeric_df = pd.read_excel(file_path,engine='openpyxl')"
   ]
  },
  {
   "cell_type": "code",
   "execution_count": 50,
   "id": "50ae340e",
   "metadata": {},
   "outputs": [
    {
     "name": "stdout",
     "output_type": "stream",
     "text": [
      "📊 混淆矩陣：\n",
      "[[792   4]\n",
      " [  7   1]]\n",
      "\n",
      "📄 分類報告：\n",
      "              precision    recall  f1-score   support\n",
      "\n",
      "  Normal (0)       0.99      0.99      0.99       796\n",
      "Abnormal (1)       0.20      0.12      0.15         8\n",
      "\n",
      "    accuracy                           0.99       804\n",
      "   macro avg       0.60      0.56      0.57       804\n",
      "weighted avg       0.98      0.99      0.98       804\n",
      "\n",
      "🎯 F1-score（macro）: 0.573474801061008\n"
     ]
    }
   ],
   "source": [
    "# ===== 1. 特徵與目標（用 PCA80_35 當 X，原始表單取 y）=====\n",
    "X = PCA80_35_df\n",
    "y = filled_data_label_numeric_df['abnormal_target']\n",
    "\n",
    "# ===== 2. 資料標準化 =====\n",
    "scaler = StandardScaler()\n",
    "X_scaled = scaler.fit_transform(X)\n",
    "\n",
    "# ===== 3. 切分訓練與測試資料 =====\n",
    "X_train, X_test, y_train, y_test = train_test_split(\n",
    "    X_scaled, y, test_size=0.2, random_state=42, stratify=y)\n",
    "\n",
    "# ===== 4. 套用 SMOTE 過採樣（只對訓練資料做）=====\n",
    "smote = SMOTE(random_state=42)\n",
    "X_train_resampled, y_train_resampled = smote.fit_resample(X_train, y_train)\n",
    "\n",
    "# ===== 5. 建立 SVM 模型 =====\n",
    "svm_model = SVC(kernel='rbf', probability=True)\n",
    "svm_model.fit(X_train_resampled, y_train_resampled)\n",
    "\n",
    "# ===== 6. 預測 =====\n",
    "y_pred = svm_model.predict(X_test)\n",
    "\n",
    "# ===== 7. 評估 =====\n",
    "print(\"📊 混淆矩陣：\")\n",
    "print(confusion_matrix(y_test, y_pred))\n",
    "\n",
    "print(\"\\n📄 分類報告：\")\n",
    "print(classification_report(y_test, y_pred, target_names=[\"Normal (0)\", \"Abnormal (1)\"]))\n",
    "\n",
    "print(\"🎯 F1-score（macro）:\", f1_score(y_test, y_pred, average='macro'))"
   ]
  },
  {
   "cell_type": "markdown",
   "id": "44353856",
   "metadata": {},
   "source": [
    "# 6. SVM + PCA90_44 + SMOTE"
   ]
  },
  {
   "cell_type": "markdown",
   "id": "090df0f0",
   "metadata": {},
   "source": [
    "比不做SMOTE好一丟丟"
   ]
  },
  {
   "cell_type": "code",
   "execution_count": 51,
   "id": "c65e9846",
   "metadata": {},
   "outputs": [],
   "source": [
    "PCA90_44_df = pd.read_csv(\"../data/PCA90_44.csv\")\n",
    "file_path = \"../data/filled_data_label_numeric.xlsx\"\n",
    "filled_data_label_numeric_df = pd.read_excel(file_path,engine='openpyxl')"
   ]
  },
  {
   "cell_type": "code",
   "execution_count": 53,
   "id": "c8ee7838",
   "metadata": {},
   "outputs": [
    {
     "name": "stdout",
     "output_type": "stream",
     "text": [
      "📊 混淆矩陣：\n",
      "[[795   1]\n",
      " [  7   1]]\n",
      "\n",
      "📄 分類報告：\n",
      "              precision    recall  f1-score   support\n",
      "\n",
      "  Normal (0)       0.99      1.00      0.99       796\n",
      "Abnormal (1)       0.50      0.12      0.20         8\n",
      "\n",
      "    accuracy                           0.99       804\n",
      "   macro avg       0.75      0.56      0.60       804\n",
      "weighted avg       0.99      0.99      0.99       804\n",
      "\n",
      "🎯 F1-score（macro）: 0.5974968710888611\n"
     ]
    }
   ],
   "source": [
    "# ===== 1. 特徵與目標（用 PCA80_35 當 X，原始表單取 y）=====\n",
    "X = PCA90_44_df\n",
    "y = filled_data_label_numeric_df['abnormal_target']\n",
    "\n",
    "# ===== 2. 資料標準化 =====\n",
    "scaler = StandardScaler()\n",
    "X_scaled = scaler.fit_transform(X)\n",
    "\n",
    "# ===== 3. 切分訓練與測試資料 =====\n",
    "X_train, X_test, y_train, y_test = train_test_split(\n",
    "    X_scaled, y, test_size=0.2, random_state=42, stratify=y)\n",
    "\n",
    "# ===== 4. 套用 SMOTE 過採樣（只對訓練資料做）=====\n",
    "smote = SMOTE(random_state=42)\n",
    "X_train_resampled, y_train_resampled = smote.fit_resample(X_train, y_train)\n",
    "\n",
    "# ===== 5. 建立 SVM 模型 =====\n",
    "svm_model = SVC(kernel='rbf', probability=True)\n",
    "svm_model.fit(X_train_resampled, y_train_resampled)\n",
    "\n",
    "# ===== 6. 預測 =====\n",
    "y_pred = svm_model.predict(X_test)\n",
    "\n",
    "# ===== 7. 評估 =====\n",
    "print(\"📊 混淆矩陣：\")\n",
    "print(confusion_matrix(y_test, y_pred))\n",
    "\n",
    "print(\"\\n📄 分類報告：\")\n",
    "print(classification_report(y_test, y_pred, target_names=[\"Normal (0)\", \"Abnormal (1)\"]))\n",
    "\n",
    "print(\"🎯 F1-score（macro）:\", f1_score(y_test, y_pred, average='macro'))"
   ]
  }
 ],
 "metadata": {
  "kernelspec": {
   "display_name": "Python 3",
   "language": "python",
   "name": "python3"
  },
  "language_info": {
   "codemirror_mode": {
    "name": "ipython",
    "version": 3
   },
   "file_extension": ".py",
   "mimetype": "text/x-python",
   "name": "python",
   "nbconvert_exporter": "python",
   "pygments_lexer": "ipython3",
   "version": "3.13.2"
  }
 },
 "nbformat": 4,
 "nbformat_minor": 5
}
