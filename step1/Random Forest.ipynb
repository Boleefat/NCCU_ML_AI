{
 "cells": [
  {
   "cell_type": "markdown",
   "id": "78fac4fe",
   "metadata": {},
   "source": [
    "\n",
    "### Random Forest\n",
    "1. RF baseline  \n",
    "2. RF + SMOTE  \n",
    "3. RF + PCA(80%, 35維)  \n",
    "4. RF + PCA(90%, 44維)  \n",
    "5. RF + PCA(80%, 35維) + SMOTE  \n",
    "6. RF + PCA(90%, 44維) + SMOTE  \n"
   ]
  },
  {
   "cell_type": "code",
   "execution_count": 3,
   "id": "570c2a79",
   "metadata": {},
   "outputs": [
    {
     "name": "stdout",
     "output_type": "stream",
     "text": [
      "訓練集大小: (3215, 116), 測試集大小: (804, 116)\n",
      "類別比例 (train): [3185   30] (test): [796   8])\n"
     ]
    }
   ],
   "source": [
    "\n",
    "import pandas as pd\n",
    "from sklearn.ensemble import RandomForestClassifier\n",
    "from sklearn.model_selection import train_test_split\n",
    "from sklearn.metrics import classification_report, confusion_matrix, f1_score\n",
    "from sklearn.preprocessing import StandardScaler\n",
    "from sklearn.decomposition import PCA\n",
    "from imblearn.over_sampling import SMOTE\n",
    "import numpy as np\n",
    "import warnings\n",
    "warnings.filterwarnings('ignore')\n",
    "\n",
    "file_path = \"/Users/ys/Documents/GitHub/NCCU_ML_AI/data/filled_data_label_numeric.xlsx\" # 路徑可自行修改\n",
    "df = pd.read_excel(file_path,engine='openpyxl')\n",
    "X = df.drop(columns=['abnormal_target'])\n",
    "y = df['abnormal_target']\n",
    "\n",
    "scaler = StandardScaler()\n",
    "X_scaled = scaler.fit_transform(X)\n",
    "\n",
    "X_train, X_test, y_train, y_test = train_test_split(\n",
    "    X_scaled, y, test_size=0.2, random_state=42, stratify=y)\n",
    "\n",
    "print(f\"訓練集大小: {X_train.shape}, 測試集大小: {X_test.shape}\")\n",
    "print(f\"類別比例 (train): {np.bincount(y_train)} (test): {np.bincount(y_test)})\")\n"
   ]
  },
  {
   "cell_type": "code",
   "execution_count": 5,
   "id": "42a988c1",
   "metadata": {},
   "outputs": [],
   "source": [
    "\n",
    "results = []\n",
    "\n",
    "def run_rf_and_collect(X_train, X_test, y_train, y_test, desc, **kwargs):\n",
    "    clf = RandomForestClassifier(n_estimators=200, max_depth=8, random_state=42, **kwargs)\n",
    "    clf.fit(X_train, y_train)\n",
    "    y_pred = clf.predict(X_test)\n",
    "    cm = confusion_matrix(y_test, y_pred)\n",
    "    report = classification_report(y_test, y_pred, output_dict=True)\n",
    "    macro_f1 = f1_score(y_test, y_pred, average='macro')\n",
    "    results.append({\n",
    "        '方法': desc,\n",
    "        '準確率': report['accuracy'],\n",
    "        'Recall_1': report['1']['recall'] if '1' in report else np.nan,\n",
    "        'F1_1': report['1']['f1-score'] if '1' in report else np.nan,\n",
    "        'F1_macro': macro_f1,\n",
    "        '混淆矩陣': cm.tolist()\n",
    "    })\n",
    "    print(f\"\\n========== {desc} ==========\")\n",
    "    print(\"混淆矩陣：\\n\", cm)\n",
    "    print(classification_report(y_test, y_pred, target_names=[\"Normal (0)\", \"Abnormal (1)\"]))\n",
    "    print(f\"F1-score（macro）：{macro_f1:.4f}\")\n"
   ]
  },
  {
   "cell_type": "markdown",
   "id": "ccf02ff7",
   "metadata": {},
   "source": [
    "## 1. Random Forest baseline（無SMOTE、無PCA）"
   ]
  },
  {
   "cell_type": "code",
   "execution_count": 6,
   "id": "ae92e0cc",
   "metadata": {},
   "outputs": [
    {
     "name": "stdout",
     "output_type": "stream",
     "text": [
      "\n",
      "========== RF baseline ==========\n",
      "混淆矩陣：\n",
      " [[796   0]\n",
      " [  4   4]]\n",
      "              precision    recall  f1-score   support\n",
      "\n",
      "  Normal (0)       0.99      1.00      1.00       796\n",
      "Abnormal (1)       1.00      0.50      0.67         8\n",
      "\n",
      "    accuracy                           1.00       804\n",
      "   macro avg       1.00      0.75      0.83       804\n",
      "weighted avg       1.00      1.00      0.99       804\n",
      "\n",
      "F1-score（macro）：0.8321\n"
     ]
    }
   ],
   "source": [
    "run_rf_and_collect(X_train, X_test, y_train, y_test, \"RF baseline\")"
   ]
  },
  {
   "cell_type": "markdown",
   "id": "ce268bf4",
   "metadata": {},
   "source": [
    "## 2. RF + SMOTE"
   ]
  },
  {
   "cell_type": "code",
   "execution_count": 7,
   "id": "935de96c",
   "metadata": {},
   "outputs": [
    {
     "name": "stdout",
     "output_type": "stream",
     "text": [
      "\n",
      "========== RF + SMOTE ==========\n",
      "混淆矩陣：\n",
      " [[796   0]\n",
      " [  3   5]]\n",
      "              precision    recall  f1-score   support\n",
      "\n",
      "  Normal (0)       1.00      1.00      1.00       796\n",
      "Abnormal (1)       1.00      0.62      0.77         8\n",
      "\n",
      "    accuracy                           1.00       804\n",
      "   macro avg       1.00      0.81      0.88       804\n",
      "weighted avg       1.00      1.00      1.00       804\n",
      "\n",
      "F1-score（macro）：0.8837\n"
     ]
    }
   ],
   "source": [
    "\n",
    "smote = SMOTE(random_state=42)\n",
    "X_train_sm, y_train_sm = smote.fit_resample(X_train, y_train)\n",
    "run_rf_and_collect(X_train_sm, X_test, y_train_sm, y_test, \"RF + SMOTE\")\n"
   ]
  },
  {
   "cell_type": "markdown",
   "id": "a5b57921",
   "metadata": {},
   "source": [
    "## 3. RF + PCA(80%, 35維)"
   ]
  },
  {
   "cell_type": "code",
   "execution_count": 8,
   "id": "45bc12ba",
   "metadata": {},
   "outputs": [
    {
     "name": "stdout",
     "output_type": "stream",
     "text": [
      "\n",
      "========== RF + PCA(80%, 35) ==========\n",
      "混淆矩陣：\n",
      " [[796   0]\n",
      " [  8   0]]\n",
      "              precision    recall  f1-score   support\n",
      "\n",
      "  Normal (0)       0.99      1.00      0.99       796\n",
      "Abnormal (1)       0.00      0.00      0.00         8\n",
      "\n",
      "    accuracy                           0.99       804\n",
      "   macro avg       0.50      0.50      0.50       804\n",
      "weighted avg       0.98      0.99      0.99       804\n",
      "\n",
      "F1-score（macro）：0.4975\n"
     ]
    }
   ],
   "source": [
    "\n",
    "pca_80_35 = PCA(n_components=35, random_state=42)\n",
    "X_train_pca_80_35 = pca_80_35.fit_transform(X_train)\n",
    "X_test_pca_80_35 = pca_80_35.transform(X_test)\n",
    "run_rf_and_collect(X_train_pca_80_35, X_test_pca_80_35, y_train, y_test, \"RF + PCA(80%, 35)\")\n"
   ]
  },
  {
   "cell_type": "markdown",
   "id": "a25fa043",
   "metadata": {},
   "source": [
    "## 4. RF + PCA(90%, 44維)"
   ]
  },
  {
   "cell_type": "code",
   "execution_count": 9,
   "id": "c1789f36",
   "metadata": {},
   "outputs": [
    {
     "name": "stdout",
     "output_type": "stream",
     "text": [
      "\n",
      "========== RF + PCA(90%, 44) ==========\n",
      "混淆矩陣：\n",
      " [[796   0]\n",
      " [  8   0]]\n",
      "              precision    recall  f1-score   support\n",
      "\n",
      "  Normal (0)       0.99      1.00      0.99       796\n",
      "Abnormal (1)       0.00      0.00      0.00         8\n",
      "\n",
      "    accuracy                           0.99       804\n",
      "   macro avg       0.50      0.50      0.50       804\n",
      "weighted avg       0.98      0.99      0.99       804\n",
      "\n",
      "F1-score（macro）：0.4975\n"
     ]
    }
   ],
   "source": [
    "\n",
    "pca_90_44 = PCA(n_components=44, random_state=42)\n",
    "X_train_pca_90_44 = pca_90_44.fit_transform(X_train)\n",
    "X_test_pca_90_44 = pca_90_44.transform(X_test)\n",
    "run_rf_and_collect(X_train_pca_90_44, X_test_pca_90_44, y_train, y_test, \"RF + PCA(90%, 44)\")\n"
   ]
  },
  {
   "cell_type": "markdown",
   "id": "dc732a07",
   "metadata": {},
   "source": [
    "## 5. RF + PCA(80%, 35) + SMOTE"
   ]
  },
  {
   "cell_type": "code",
   "execution_count": 10,
   "id": "58dce14e",
   "metadata": {},
   "outputs": [
    {
     "name": "stdout",
     "output_type": "stream",
     "text": [
      "\n",
      "========== RF + PCA(80%, 35) + SMOTE ==========\n",
      "混淆矩陣：\n",
      " [[788   8]\n",
      " [  6   2]]\n",
      "              precision    recall  f1-score   support\n",
      "\n",
      "  Normal (0)       0.99      0.99      0.99       796\n",
      "Abnormal (1)       0.20      0.25      0.22         8\n",
      "\n",
      "    accuracy                           0.98       804\n",
      "   macro avg       0.60      0.62      0.61       804\n",
      "weighted avg       0.98      0.98      0.98       804\n",
      "\n",
      "F1-score（macro）：0.6067\n"
     ]
    }
   ],
   "source": [
    "\n",
    "X_train_pca_80_35_sm, y_train_pca_80_35_sm = smote.fit_resample(X_train_pca_80_35, y_train)\n",
    "run_rf_and_collect(X_train_pca_80_35_sm, X_test_pca_80_35, y_train_pca_80_35_sm, y_test, \"RF + PCA(80%, 35) + SMOTE\")\n"
   ]
  },
  {
   "cell_type": "markdown",
   "id": "50a08be6",
   "metadata": {},
   "source": [
    "## 6. RF + PCA(90%, 44) + SMOTE"
   ]
  },
  {
   "cell_type": "code",
   "execution_count": 11,
   "id": "1c73b134",
   "metadata": {},
   "outputs": [
    {
     "name": "stdout",
     "output_type": "stream",
     "text": [
      "\n",
      "========== RF + PCA(90%, 44) + SMOTE ==========\n",
      "混淆矩陣：\n",
      " [[787   9]\n",
      " [  7   1]]\n",
      "              precision    recall  f1-score   support\n",
      "\n",
      "  Normal (0)       0.99      0.99      0.99       796\n",
      "Abnormal (1)       0.10      0.12      0.11         8\n",
      "\n",
      "    accuracy                           0.98       804\n",
      "   macro avg       0.55      0.56      0.55       804\n",
      "weighted avg       0.98      0.98      0.98       804\n",
      "\n",
      "F1-score（macro）：0.5505\n"
     ]
    }
   ],
   "source": [
    "\n",
    "X_train_pca_90_44_sm, y_train_pca_90_44_sm = smote.fit_resample(X_train_pca_90_44, y_train)\n",
    "run_rf_and_collect(X_train_pca_90_44_sm, X_test_pca_90_44, y_train_pca_90_44_sm, y_test, \"RF + PCA(90%, 44) + SMOTE\")\n"
   ]
  },
  {
   "cell_type": "markdown",
   "id": "7de3f1a5",
   "metadata": {},
   "source": [
    "## 所有方法 summary 一覽"
   ]
  },
  {
   "cell_type": "code",
   "execution_count": 12,
   "id": "6f388ea5",
   "metadata": {},
   "outputs": [
    {
     "data": {
      "text/html": [
       "<div>\n",
       "<style scoped>\n",
       "    .dataframe tbody tr th:only-of-type {\n",
       "        vertical-align: middle;\n",
       "    }\n",
       "\n",
       "    .dataframe tbody tr th {\n",
       "        vertical-align: top;\n",
       "    }\n",
       "\n",
       "    .dataframe thead th {\n",
       "        text-align: right;\n",
       "    }\n",
       "</style>\n",
       "<table border=\"1\" class=\"dataframe\">\n",
       "  <thead>\n",
       "    <tr style=\"text-align: right;\">\n",
       "      <th></th>\n",
       "      <th>方法</th>\n",
       "      <th>準確率</th>\n",
       "      <th>Recall_1</th>\n",
       "      <th>F1_1</th>\n",
       "      <th>F1_macro</th>\n",
       "      <th>混淆矩陣</th>\n",
       "    </tr>\n",
       "  </thead>\n",
       "  <tbody>\n",
       "    <tr>\n",
       "      <th>0</th>\n",
       "      <td>RF baseline</td>\n",
       "      <td>0.995025</td>\n",
       "      <td>0.500</td>\n",
       "      <td>0.666667</td>\n",
       "      <td>0.832080</td>\n",
       "      <td>[[796, 0], [4, 4]]</td>\n",
       "    </tr>\n",
       "    <tr>\n",
       "      <th>1</th>\n",
       "      <td>RF + SMOTE</td>\n",
       "      <td>0.996269</td>\n",
       "      <td>0.625</td>\n",
       "      <td>0.769231</td>\n",
       "      <td>0.883675</td>\n",
       "      <td>[[796, 0], [3, 5]]</td>\n",
       "    </tr>\n",
       "    <tr>\n",
       "      <th>2</th>\n",
       "      <td>RF + PCA(80%, 35)</td>\n",
       "      <td>0.990050</td>\n",
       "      <td>0.000</td>\n",
       "      <td>0.000000</td>\n",
       "      <td>0.497500</td>\n",
       "      <td>[[796, 0], [8, 0]]</td>\n",
       "    </tr>\n",
       "    <tr>\n",
       "      <th>3</th>\n",
       "      <td>RF + PCA(90%, 44)</td>\n",
       "      <td>0.990050</td>\n",
       "      <td>0.000</td>\n",
       "      <td>0.000000</td>\n",
       "      <td>0.497500</td>\n",
       "      <td>[[796, 0], [8, 0]]</td>\n",
       "    </tr>\n",
       "    <tr>\n",
       "      <th>4</th>\n",
       "      <td>RF + PCA(80%, 35) + SMOTE</td>\n",
       "      <td>0.982587</td>\n",
       "      <td>0.250</td>\n",
       "      <td>0.222222</td>\n",
       "      <td>0.606709</td>\n",
       "      <td>[[788, 8], [6, 2]]</td>\n",
       "    </tr>\n",
       "    <tr>\n",
       "      <th>5</th>\n",
       "      <td>RF + PCA(90%, 44) + SMOTE</td>\n",
       "      <td>0.980100</td>\n",
       "      <td>0.125</td>\n",
       "      <td>0.111111</td>\n",
       "      <td>0.550524</td>\n",
       "      <td>[[787, 9], [7, 1]]</td>\n",
       "    </tr>\n",
       "  </tbody>\n",
       "</table>\n",
       "</div>"
      ],
      "text/plain": [
       "                          方法       準確率  Recall_1      F1_1  F1_macro  \\\n",
       "0                RF baseline  0.995025     0.500  0.666667  0.832080   \n",
       "1                 RF + SMOTE  0.996269     0.625  0.769231  0.883675   \n",
       "2          RF + PCA(80%, 35)  0.990050     0.000  0.000000  0.497500   \n",
       "3          RF + PCA(90%, 44)  0.990050     0.000  0.000000  0.497500   \n",
       "4  RF + PCA(80%, 35) + SMOTE  0.982587     0.250  0.222222  0.606709   \n",
       "5  RF + PCA(90%, 44) + SMOTE  0.980100     0.125  0.111111  0.550524   \n",
       "\n",
       "                 混淆矩陣  \n",
       "0  [[796, 0], [4, 4]]  \n",
       "1  [[796, 0], [3, 5]]  \n",
       "2  [[796, 0], [8, 0]]  \n",
       "3  [[796, 0], [8, 0]]  \n",
       "4  [[788, 8], [6, 2]]  \n",
       "5  [[787, 9], [7, 1]]  "
      ]
     },
     "execution_count": 12,
     "metadata": {},
     "output_type": "execute_result"
    }
   ],
   "source": [
    "\n",
    "summary = pd.DataFrame(results)\n",
    "summary[['方法', '準確率', 'Recall_1', 'F1_1', 'F1_macro', '混淆矩陣']]\n"
   ]
  }
 ],
 "metadata": {
  "kernelspec": {
   "display_name": "Python 3",
   "language": "python",
   "name": "python3"
  },
  "language_info": {
   "codemirror_mode": {
    "name": "ipython",
    "version": 3
   },
   "file_extension": ".py",
   "mimetype": "text/x-python",
   "name": "python",
   "nbconvert_exporter": "python",
   "pygments_lexer": "ipython3",
   "version": "3.10.6"
  }
 },
 "nbformat": 4,
 "nbformat_minor": 5
}
