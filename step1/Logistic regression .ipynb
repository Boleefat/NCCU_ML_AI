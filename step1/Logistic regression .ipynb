{
  "nbformat": 4,
  "nbformat_minor": 0,
  "metadata": {
    "colab": {
      "provenance": []
    },
    "kernelspec": {
      "name": "python3",
      "display_name": "Python 3"
    },
    "language_info": {
      "name": "python"
    }
  },
  "cells": [
    {
      "cell_type": "markdown",
      "source": [
        "**做了四個方法**\n",
        "\n",
        "\n",
        "1.羅吉斯+PCA+加權(1:10) 80%\n",
        "\n",
        "2.羅吉斯+PCA+SMOTE 80%\n",
        "\n",
        "3.羅吉斯+PCA+加權(1:10) 90%\n",
        "\n",
        "4.羅吉斯+PCA+SMOTE 90%\n",
        "\n",
        "羅吉斯是直接讓模型跑，PCA有80%跟90%，有處理不平衡的表現比沒有的好很多，但仍存在FP跟FN。最好模型羅吉斯 + PCA(90%) + 加權 (1:10)\n",
        "\n",
        "![image.png](data:image/png;base64,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)"
      ],
      "metadata": {
        "id": "htxKjnRIrypx"
      }
    },
    {
      "cell_type": "markdown",
      "source": [
        "###套件載入"
      ],
      "metadata": {
        "id": "sibUEsRhqx_5"
      }
    },
    {
      "cell_type": "code",
      "source": [
        "import pandas as pd\n",
        "import numpy as np\n",
        "import matplotlib.pyplot as plt\n",
        "import seaborn as sns\n",
        "from sklearn.pipeline import Pipeline\n",
        "from sklearn.decomposition import PCA\n",
        "from imblearn.over_sampling import SMOTE\n",
        "from sklearn.preprocessing import StandardScaler\n",
        "from sklearn.linear_model import LogisticRegression\n",
        "from sklearn.model_selection import train_test_split\n",
        "from sklearn.metrics import accuracy_score, classification_report, confusion_matrix"
      ],
      "metadata": {
        "id": "tYctzfcvbRil"
      },
      "execution_count": 14,
      "outputs": []
    },
    {
      "cell_type": "markdown",
      "source": [
        "###資料載入"
      ],
      "metadata": {
        "id": "aDV4d4quq50E"
      }
    },
    {
      "cell_type": "code",
      "source": [
        "file_path = \"/content/drive/MyDrive/filled_data_label_numeric.xlsx\"\n",
        "filled_data_label_numeric_df = pd.read_excel(file_path,engine='openpyxl')"
      ],
      "metadata": {
        "id": "oz83kmSNbZxB"
      },
      "execution_count": 15,
      "outputs": []
    },
    {
      "cell_type": "code",
      "execution_count": 16,
      "metadata": {
        "id": "2Umq9hzEaeVU",
        "colab": {
          "base_uri": "https://localhost:8080/"
        },
        "outputId": "c1aedb14-3292-43fd-bc9a-ac947b89beaf"
      },
      "outputs": [
        {
          "output_type": "stream",
          "name": "stdout",
          "text": [
            "保留80%變異量需要主成分數量: 34\n",
            "保留90%變異量需要主成分數量: 45\n"
          ]
        }
      ],
      "source": [
        "# 目標欄位\n",
        "target_col = \"abnormal_target\"\n",
        "\n",
        "# 特徵與目標\n",
        "X = filled_data_label_numeric_df.drop(columns=[target_col])\n",
        "y = filled_data_label_numeric_df[target_col]\n",
        "\n",
        "# 特徵標準化\n",
        "scaler = StandardScaler()\n",
        "X_scaled = scaler.fit_transform(X)\n",
        "\n",
        "# 做 PCA\n",
        "pca = PCA()\n",
        "X_pca = pca.fit_transform(X_scaled)\n",
        "\n",
        "# 計算累積解釋變異量\n",
        "cumulative_variance = np.cumsum(pca.explained_variance_ratio_)\n",
        "\n",
        "# 找出保留 80% 和 90% 變異量所需主成分數量\n",
        "n_pc_80 = next(i+1 for i, var in enumerate(cumulative_variance) if var >= 0.80)\n",
        "n_pc_90 = next(i+1 for i, var in enumerate(cumulative_variance) if var >= 0.90)\n",
        "\n",
        "print(f\"保留80%變異量需要主成分數量: {n_pc_80}\")\n",
        "print(f\"保留90%變異量需要主成分數量: {n_pc_90}\")\n",
        "\n",
        "# 取前 n_pc_80 和 n_pc_90 主成分\n",
        "X_pca_80 = X_pca[:, :n_pc_80]\n",
        "X_pca_90 = X_pca[:, :n_pc_90]"
      ]
    },
    {
      "cell_type": "markdown",
      "source": [
        "###PCA前的羅吉斯回歸"
      ],
      "metadata": {
        "id": "XDid0ux4q9Ki"
      }
    },
    {
      "cell_type": "markdown",
      "source": [
        "##PCA後的動作"
      ],
      "metadata": {
        "id": "WOMDmqwmrKUi"
      }
    },
    {
      "cell_type": "markdown",
      "source": [
        "###純PCA+羅吉斯"
      ],
      "metadata": {
        "id": "1AZreTPtra7S"
      }
    },
    {
      "cell_type": "markdown",
      "source": [
        "####\n",
        "羅吉斯 + PCA(80%) + 加權 (1:10)\n",
        "\n",
        "羅吉斯 + PCA(90%) + 加權 (1:10)\n",
        "\n",
        "羅吉斯 + PCA(80%) + SMOTE\n",
        "\n",
        "羅吉斯 + PCA(90%) + SMOTE"
      ],
      "metadata": {
        "id": "Nh6oEmEyoRmM"
      }
    },
    {
      "cell_type": "code",
      "source": [
        "# -------------------------------\n",
        "# 定義函數：訓練 + 評估模型\n",
        "def train_eval_logistic(X, y, use_smote=False, class_weight=None):\n",
        "    # 分割資料集\n",
        "    X_train, X_test, y_train, y_test = train_test_split(X, y, test_size=0.2, random_state=42)\n",
        "\n",
        "    # 若使用 SMOTE 做過採樣\n",
        "    if use_smote:\n",
        "        sm = SMOTE(random_state=42)\n",
        "        X_train, y_train = sm.fit_resample(X_train, y_train)\n",
        "\n",
        "    # 建立羅吉斯回歸模型\n",
        "    log_model = LogisticRegression(max_iter=1000, class_weight=class_weight)\n",
        "    log_model.fit(X_train, y_train)\n",
        "\n",
        "    # 預測\n",
        "    y_pred = log_model.predict(X_test)\n",
        "\n",
        "    # 評估\n",
        "    print(\"準確率 (Accuracy):\", accuracy_score(y_test, y_pred))\n",
        "    print(\"\\n分類報告 (Classification Report):\\n\", classification_report(y_test, y_pred))\n",
        "    print(\"\\n混淆矩陣 (Confusion Matrix):\\n\", confusion_matrix(y_test, y_pred))\n",
        "    print(\"-\" * 50)\n",
        "\n",
        "    return log_model, X_test, y_test\n",
        "\n",
        "# -------------------------------\n",
        "print(\"==== 1. 羅吉斯 + PCA(80%) + 加權 (1:10) ====\")\n",
        "train_eval_logistic(X_pca_80, y, use_smote=False, class_weight={0:1, 1:10})\n",
        "\n",
        "print(\"==== 2. 羅吉斯 + PCA(90%) + 加權 (1:10) ====\")\n",
        "train_eval_logistic(X_pca_90, y, use_smote=False, class_weight={0:1, 1:10})\n",
        "\n",
        "print(\"==== 3. 羅吉斯 + PCA(80%) + SMOTE ====\")\n",
        "train_eval_logistic(X_pca_80, y, use_smote=True, class_weight=None)\n",
        "\n",
        "print(\"==== 4. 羅吉斯 + PCA(90%) + SMOTE ====\")\n",
        "train_eval_logistic(X_pca_90, y, use_smote=True, class_weight=None)"
      ],
      "metadata": {
        "colab": {
          "base_uri": "https://localhost:8080/"
        },
        "id": "NnPPb-SvoKMP",
        "outputId": "681c0f65-91d9-4eaf-c4b0-2336e3187f5f"
      },
      "execution_count": 19,
      "outputs": [
        {
          "output_type": "stream",
          "name": "stdout",
          "text": [
            "==== 1. 羅吉斯 + PCA(80%) + 加權 (1:10) ====\n",
            "準確率 (Accuracy): 0.9701492537313433\n",
            "\n",
            "分類報告 (Classification Report):\n",
            "               precision    recall  f1-score   support\n",
            "\n",
            "           0       0.99      0.98      0.98       795\n",
            "           1       0.11      0.22      0.14         9\n",
            "\n",
            "    accuracy                           0.97       804\n",
            "   macro avg       0.55      0.60      0.56       804\n",
            "weighted avg       0.98      0.97      0.98       804\n",
            "\n",
            "\n",
            "混淆矩陣 (Confusion Matrix):\n",
            " [[778  17]\n",
            " [  7   2]]\n",
            "--------------------------------------------------\n",
            "==== 2. 羅吉斯 + PCA(90%) + 加權 (1:10) ====\n",
            "準確率 (Accuracy): 0.9776119402985075\n",
            "\n",
            "分類報告 (Classification Report):\n",
            "               precision    recall  f1-score   support\n",
            "\n",
            "           0       0.99      0.98      0.99       795\n",
            "           1       0.24      0.44      0.31         9\n",
            "\n",
            "    accuracy                           0.98       804\n",
            "   macro avg       0.61      0.71      0.65       804\n",
            "weighted avg       0.99      0.98      0.98       804\n",
            "\n",
            "\n",
            "混淆矩陣 (Confusion Matrix):\n",
            " [[782  13]\n",
            " [  5   4]]\n",
            "--------------------------------------------------\n",
            "==== 3. 羅吉斯 + PCA(80%) + SMOTE ====\n",
            "準確率 (Accuracy): 0.9552238805970149\n",
            "\n",
            "分類報告 (Classification Report):\n",
            "               precision    recall  f1-score   support\n",
            "\n",
            "           0       0.99      0.96      0.98       795\n",
            "           1       0.11      0.44      0.18         9\n",
            "\n",
            "    accuracy                           0.96       804\n",
            "   macro avg       0.55      0.70      0.58       804\n",
            "weighted avg       0.98      0.96      0.97       804\n",
            "\n",
            "\n",
            "混淆矩陣 (Confusion Matrix):\n",
            " [[764  31]\n",
            " [  5   4]]\n",
            "--------------------------------------------------\n",
            "==== 4. 羅吉斯 + PCA(90%) + SMOTE ====\n",
            "準確率 (Accuracy): 0.9639303482587065\n",
            "\n",
            "分類報告 (Classification Report):\n",
            "               precision    recall  f1-score   support\n",
            "\n",
            "           0       0.99      0.97      0.98       795\n",
            "           1       0.17      0.56      0.26         9\n",
            "\n",
            "    accuracy                           0.96       804\n",
            "   macro avg       0.58      0.76      0.62       804\n",
            "weighted avg       0.99      0.96      0.97       804\n",
            "\n",
            "\n",
            "混淆矩陣 (Confusion Matrix):\n",
            " [[770  25]\n",
            " [  4   5]]\n",
            "--------------------------------------------------\n"
          ]
        },
        {
          "output_type": "execute_result",
          "data": {
            "text/plain": [
              "(LogisticRegression(max_iter=1000),\n",
              " array([[ 2.11148659e+00,  4.52897273e-01,  2.72901132e-01, ...,\n",
              "         -4.54192600e-01,  2.14991740e-01,  2.83627665e-01],\n",
              "        [ 2.77489131e+00,  7.59635801e-01, -3.43880426e-01, ...,\n",
              "          5.38211079e-01, -1.34759986e-01,  4.77590623e-02],\n",
              "        [-4.41561816e+00, -2.92439322e+00, -2.62537945e+00, ...,\n",
              "         -7.85573533e-02,  1.13189669e+00, -1.06431008e-01],\n",
              "        ...,\n",
              "        [-4.43316900e+00, -2.10478754e+00,  2.00259933e+00, ...,\n",
              "          8.26208785e-01,  2.04795097e-03, -1.38807421e+00],\n",
              "        [ 1.74904147e+00, -1.04770004e+00, -3.52151052e-01, ...,\n",
              "          6.74052892e-01,  2.43044116e-02, -3.46716796e-01],\n",
              "        [ 1.28686537e+00,  2.52240609e+00,  1.44944069e+00, ...,\n",
              "          9.23565504e-03,  3.46617145e-01,  2.25952845e-01]]),\n",
              " 2295    0\n",
              " 1204    0\n",
              " 3644    0\n",
              " 1953    0\n",
              " 1226    0\n",
              "        ..\n",
              " 2776    0\n",
              " 3572    0\n",
              " 1929    0\n",
              " 3749    0\n",
              " 3878    0\n",
              " Name: abnormal_target, Length: 804, dtype: int64)"
            ]
          },
          "metadata": {},
          "execution_count": 19
        }
      ]
    }
  ]
}