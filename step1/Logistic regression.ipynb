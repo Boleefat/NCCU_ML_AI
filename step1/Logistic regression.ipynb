{
  "nbformat": 4,
  "nbformat_minor": 0,
  "metadata": {
    "colab": {
      "provenance": []
    },
    "kernelspec": {
      "name": "python3",
      "display_name": "Python 3"
    },
    "language_info": {
      "name": "python"
    }
  },
  "cells": [
    {
      "cell_type": "markdown",
      "source": [
        "**做了四個方法**\n",
        "\n",
        "1.羅吉斯\n",
        "\n",
        "2.羅吉斯+PCA\n",
        "\n",
        "3.羅吉斯+PCA+加權(1:10)\n",
        "\n",
        "4.羅吉斯+PCA+SMOTE\n",
        "\n",
        "羅吉斯是直接讓模型跑，PCA保留全部主成分，有處理不平衡的表現比沒有的好很多，但仍存在FP跟FN。最後顯示風險最高五名\n",
        "\n",
        "![image.png](data:image/png;base64,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)"
      ],
      "metadata": {
        "id": "htxKjnRIrypx"
      }
    },
    {
      "cell_type": "markdown",
      "source": [
        "###套件載入"
      ],
      "metadata": {
        "id": "sibUEsRhqx_5"
      }
    },
    {
      "cell_type": "code",
      "source": [
        "import pandas as pd\n",
        "from sklearn.pipeline import Pipeline\n",
        "from sklearn.decomposition import PCA\n",
        "from imblearn.over_sampling import SMOTE\n",
        "from sklearn.preprocessing import StandardScaler\n",
        "from sklearn.linear_model import LogisticRegression\n",
        "from sklearn.model_selection import train_test_split\n",
        "from sklearn.metrics import accuracy_score, classification_report, confusion_matrix"
      ],
      "metadata": {
        "id": "tYctzfcvbRil"
      },
      "execution_count": 1,
      "outputs": []
    },
    {
      "cell_type": "markdown",
      "source": [
        "###資料載入"
      ],
      "metadata": {
        "id": "aDV4d4quq50E"
      }
    },
    {
      "cell_type": "code",
      "source": [
        "file_path = \"/content/drive/MyDrive/filled_data_label_numeric.xlsx\"\n",
        "filled_data_label_numeric_df = pd.read_excel(file_path,engine='openpyxl')"
      ],
      "metadata": {
        "id": "oz83kmSNbZxB"
      },
      "execution_count": 2,
      "outputs": []
    },
    {
      "cell_type": "code",
      "execution_count": 3,
      "metadata": {
        "id": "2Umq9hzEaeVU",
        "colab": {
          "base_uri": "https://localhost:8080/"
        },
        "outputId": "7be9ce39-552f-40c2-f708-cc1447a5dccb"
      },
      "outputs": [
        {
          "output_type": "stream",
          "name": "stdout",
          "text": [
            "訓練集大小: 3215, 測試集大小: 804\n"
          ]
        }
      ],
      "source": [
        "# 目標欄位\n",
        "target_col = \"abnormal_target\"\n",
        "\n",
        "# 特徵欄位\n",
        "X = filled_data_label_numeric_df.drop(columns=[target_col])\n",
        "\n",
        "# 目標變數\n",
        "y = filled_data_label_numeric_df[target_col]\n",
        "\n",
        "# 分割數據為訓練集和測試集（80%訓練，20%測試）\n",
        "X_train, X_test, y_train, y_test = train_test_split(X, y, test_size=0.2, random_state=42)\n",
        "\n",
        "print(f\"訓練集大小: {X_train.shape[0]}, 測試集大小: {X_test.shape[0]}\")"
      ]
    },
    {
      "cell_type": "markdown",
      "source": [
        "###PCA前的羅吉斯回歸"
      ],
      "metadata": {
        "id": "XDid0ux4q9Ki"
      }
    },
    {
      "cell_type": "code",
      "source": [
        "# 建立羅吉斯回歸模型\n",
        "log_model = LogisticRegression(max_iter=1000)\n",
        "log_model.fit(X_train, y_train)\n",
        "\n",
        "# 預測\n",
        "y_pred = log_model.predict(X_test)\n",
        "\n",
        "# 模型評估\n",
        "print(\"準確率 (Accuracy):\", accuracy_score(y_test, y_pred))\n",
        "print(\"\\n分類報告 (Classification Report):\\n\", classification_report(y_test, y_pred))\n",
        "print(\"\\n混淆矩陣 (Confusion Matrix):\\n\", confusion_matrix(y_test, y_pred))"
      ],
      "metadata": {
        "colab": {
          "base_uri": "https://localhost:8080/"
        },
        "id": "ZNEzWTDfoufB",
        "outputId": "01be5c2c-15c9-4872-ff0e-c59c84861657"
      },
      "execution_count": 4,
      "outputs": [
        {
          "output_type": "stream",
          "name": "stdout",
          "text": [
            "準確率 (Accuracy): 0.986318407960199\n",
            "\n",
            "分類報告 (Classification Report):\n",
            "               precision    recall  f1-score   support\n",
            "\n",
            "           0       0.99      1.00      0.99       795\n",
            "           1       0.25      0.11      0.15         9\n",
            "\n",
            "    accuracy                           0.99       804\n",
            "   macro avg       0.62      0.55      0.57       804\n",
            "weighted avg       0.98      0.99      0.98       804\n",
            "\n",
            "\n",
            "混淆矩陣 (Confusion Matrix):\n",
            " [[792   3]\n",
            " [  8   1]]\n"
          ]
        },
        {
          "output_type": "stream",
          "name": "stderr",
          "text": [
            "/usr/local/lib/python3.11/dist-packages/sklearn/linear_model/_logistic.py:465: ConvergenceWarning: lbfgs failed to converge (status=1):\n",
            "STOP: TOTAL NO. OF ITERATIONS REACHED LIMIT.\n",
            "\n",
            "Increase the number of iterations (max_iter) or scale the data as shown in:\n",
            "    https://scikit-learn.org/stable/modules/preprocessing.html\n",
            "Please also refer to the documentation for alternative solver options:\n",
            "    https://scikit-learn.org/stable/modules/linear_model.html#logistic-regression\n",
            "  n_iter_i = _check_optimize_result(\n"
          ]
        }
      ]
    },
    {
      "cell_type": "markdown",
      "source": [
        "##PCA後的動作"
      ],
      "metadata": {
        "id": "WOMDmqwmrKUi"
      }
    },
    {
      "cell_type": "code",
      "source": [
        "scaler = StandardScaler()\n",
        "X_scaled = scaler.fit_transform(X)\n",
        "\n",
        "# 設定要保留的主成分數量，這裡設置為所有主成分\n",
        "pca = PCA(n_components=min(X_scaled.shape[0], X_scaled.shape[1]))\n",
        "X_pca = pca.fit_transform(X_scaled)\n",
        "\n",
        "# 查看每個主成分的解釋變異量\n",
        "print(\"解釋變異量：\", pca.explained_variance_ratio_)"
      ],
      "metadata": {
        "colab": {
          "base_uri": "https://localhost:8080/"
        },
        "id": "72OSApZjpTpz",
        "outputId": "67c0c26e-573a-426c-93b2-1da1073c031c"
      },
      "execution_count": 5,
      "outputs": [
        {
          "output_type": "stream",
          "name": "stdout",
          "text": [
            "解釋變異量： [1.88340374e-01 6.53890992e-02 4.27871524e-02 3.85686355e-02\n",
            " 3.20250114e-02 2.61227411e-02 2.46467268e-02 1.98570294e-02\n",
            " 1.87718380e-02 1.75860429e-02 1.74815699e-02 1.71477908e-02\n",
            " 1.65428774e-02 1.61961702e-02 1.57757945e-02 1.56658593e-02\n",
            " 1.48977747e-02 1.45484508e-02 1.42738185e-02 1.40908583e-02\n",
            " 1.38373697e-02 1.36685375e-02 1.34631330e-02 1.29886078e-02\n",
            " 1.28493360e-02 1.26486871e-02 1.23333010e-02 1.20681684e-02\n",
            " 1.19699697e-02 1.17083945e-02 1.12684063e-02 1.10071940e-02\n",
            " 1.06443055e-02 1.04611527e-02 1.01174553e-02 1.00242615e-02\n",
            " 9.64570483e-03 9.43078096e-03 9.32221707e-03 8.85228819e-03\n",
            " 8.74935936e-03 8.70358974e-03 8.64991642e-03 8.35541199e-03\n",
            " 7.93140451e-03 7.69516212e-03 7.54484191e-03 7.23188470e-03\n",
            " 7.02158415e-03 6.82062964e-03 6.43738366e-03 6.42185437e-03\n",
            " 6.21698873e-03 6.06606613e-03 5.85557293e-03 5.15913432e-03\n",
            " 4.95396851e-03 4.04356299e-03 3.87308938e-03 3.52150466e-03\n",
            " 2.75361622e-03 2.19940864e-03 2.10993746e-03 1.85263028e-03\n",
            " 7.01201767e-04 1.05408974e-04 1.41250052e-17 6.78186554e-18\n",
            " 4.14338768e-18 3.18090820e-18 1.42792713e-18 9.16760659e-19\n",
            " 4.93753547e-20 0.00000000e+00 0.00000000e+00 0.00000000e+00\n",
            " 0.00000000e+00 0.00000000e+00 0.00000000e+00 0.00000000e+00\n",
            " 0.00000000e+00 0.00000000e+00 0.00000000e+00 0.00000000e+00\n",
            " 0.00000000e+00 0.00000000e+00 0.00000000e+00 0.00000000e+00\n",
            " 0.00000000e+00 0.00000000e+00 0.00000000e+00 0.00000000e+00\n",
            " 0.00000000e+00 0.00000000e+00 0.00000000e+00 0.00000000e+00\n",
            " 0.00000000e+00 0.00000000e+00 0.00000000e+00 0.00000000e+00\n",
            " 0.00000000e+00 0.00000000e+00 0.00000000e+00 0.00000000e+00\n",
            " 0.00000000e+00 0.00000000e+00 0.00000000e+00 0.00000000e+00\n",
            " 0.00000000e+00 0.00000000e+00 0.00000000e+00 0.00000000e+00\n",
            " 0.00000000e+00 0.00000000e+00 0.00000000e+00 0.00000000e+00]\n"
          ]
        }
      ]
    },
    {
      "cell_type": "markdown",
      "source": [
        "###純PCA+羅吉斯"
      ],
      "metadata": {
        "id": "1AZreTPtra7S"
      }
    },
    {
      "cell_type": "code",
      "source": [
        "# 分割 PCA 後的資料集\n",
        "X_pca_train, X_pca_test, y_train, y_test = train_test_split(X_pca, y, test_size=0.2, random_state=42)\n",
        "\n",
        "# 建立模型\n",
        "log_model = LogisticRegression(max_iter=1000, class_weight='balanced')\n",
        "log_model.fit(X_pca_train, y_train)\n",
        "\n",
        "# 預測\n",
        "y_pred = log_model.predict(X_pca_test)\n",
        "\n",
        "# 評估\n",
        "print(\"準確率 (Accuracy):\", accuracy_score(y_test, y_pred))\n",
        "print(\"\\n分類報告 (Classification Report):\\n\", classification_report(y_test, y_pred))\n",
        "print(\"\\n混淆矩陣 (Confusion Matrix):\\n\", confusion_matrix(y_test, y_pred))"
      ],
      "metadata": {
        "colab": {
          "base_uri": "https://localhost:8080/"
        },
        "id": "z8ZGwJ0rpzEB",
        "outputId": "b1a48d6b-a0f5-44b7-9906-8c79cd19459c"
      },
      "execution_count": 6,
      "outputs": [
        {
          "output_type": "stream",
          "name": "stdout",
          "text": [
            "準確率 (Accuracy): 0.9875621890547264\n",
            "\n",
            "分類報告 (Classification Report):\n",
            "               precision    recall  f1-score   support\n",
            "\n",
            "           0       0.99      0.99      0.99       795\n",
            "           1       0.45      0.56      0.50         9\n",
            "\n",
            "    accuracy                           0.99       804\n",
            "   macro avg       0.72      0.77      0.75       804\n",
            "weighted avg       0.99      0.99      0.99       804\n",
            "\n",
            "\n",
            "混淆矩陣 (Confusion Matrix):\n",
            " [[789   6]\n",
            " [  4   5]]\n"
          ]
        }
      ]
    },
    {
      "cell_type": "markdown",
      "source": [
        "###PCA+羅吉斯+加權法處理不平衡(1:10)"
      ],
      "metadata": {
        "id": "svbqd-unrewC"
      }
    },
    {
      "cell_type": "code",
      "source": [
        "weights = {0: 1, 1: 10} #有問題的業務員加權10倍\n",
        "log_model_weighted = LogisticRegression(max_iter=1000, class_weight=weights)\n",
        "log_model_weighted.fit(X_pca_train, y_train)\n",
        "\n",
        "# 預測與評估\n",
        "y_pred_weighted = log_model_weighted.predict(X_pca_test)\n",
        "print(\"🔴 方法一：加權\")\n",
        "print(\"準確率:\", accuracy_score(y_test, y_pred_weighted))\n",
        "print(\"分類報告:\\n\", classification_report(y_test, y_pred_weighted))\n",
        "print(\"混淆矩陣:\\n\", confusion_matrix(y_test, y_pred_weighted))"
      ],
      "metadata": {
        "colab": {
          "base_uri": "https://localhost:8080/"
        },
        "id": "kPtW7kF8p0eE",
        "outputId": "7b4730fa-e1cf-43b2-caa6-0b84734da238"
      },
      "execution_count": 7,
      "outputs": [
        {
          "output_type": "stream",
          "name": "stdout",
          "text": [
            "🔴 方法一：加權\n",
            "準確率: 0.9912935323383084\n",
            "分類報告:\n",
            "               precision    recall  f1-score   support\n",
            "\n",
            "           0       0.99      1.00      1.00       795\n",
            "           1       0.62      0.56      0.59         9\n",
            "\n",
            "    accuracy                           0.99       804\n",
            "   macro avg       0.81      0.78      0.79       804\n",
            "weighted avg       0.99      0.99      0.99       804\n",
            "\n",
            "混淆矩陣:\n",
            " [[792   3]\n",
            " [  4   5]]\n"
          ]
        }
      ]
    },
    {
      "cell_type": "markdown",
      "source": [
        "###PCA+羅吉斯+SMOTE重採樣"
      ],
      "metadata": {
        "id": "v9z6xZofrrQY"
      }
    },
    {
      "cell_type": "code",
      "source": [
        "# 重採樣\n",
        "smote = SMOTE(random_state=42)\n",
        "X_pca_train_res, y_train_res = smote.fit_resample(X_pca_train, y_train)\n",
        "\n",
        "# 訓練模型\n",
        "log_model_resampled = LogisticRegression(max_iter=1000)\n",
        "log_model_resampled.fit(X_pca_train_res, y_train_res)\n",
        "\n",
        "# 預測與評估\n",
        "y_pred_resampled = log_model_resampled.predict(X_pca_test)\n",
        "print(\"\\n🟢 方法二：SMOTE重採樣\")\n",
        "print(\"準確率:\", accuracy_score(y_test, y_pred_resampled))\n",
        "print(\"分類報告:\\n\", classification_report(y_test, y_pred_resampled))\n",
        "print(\"混淆矩陣:\\n\", confusion_matrix(y_test, y_pred_resampled))"
      ],
      "metadata": {
        "colab": {
          "base_uri": "https://localhost:8080/"
        },
        "id": "RlPbd6ZQqnSQ",
        "outputId": "3166337a-1df6-43c8-badc-604b8fd14ee9"
      },
      "execution_count": 8,
      "outputs": [
        {
          "output_type": "stream",
          "name": "stdout",
          "text": [
            "\n",
            "🟢 方法二：SMOTE重採樣\n",
            "準確率: 0.9912935323383084\n",
            "分類報告:\n",
            "               precision    recall  f1-score   support\n",
            "\n",
            "           0       0.99      1.00      1.00       795\n",
            "           1       0.62      0.56      0.59         9\n",
            "\n",
            "    accuracy                           0.99       804\n",
            "   macro avg       0.81      0.78      0.79       804\n",
            "weighted avg       0.99      0.99      0.99       804\n",
            "\n",
            "混淆矩陣:\n",
            " [[792   3]\n",
            " [  4   5]]\n"
          ]
        }
      ]
    },
    {
      "cell_type": "markdown",
      "source": [
        "###PCA+羅吉斯+加權法 呈現機率並顯示機率為大10筆"
      ],
      "metadata": {
        "id": "aQ2Amy1JT6Ng"
      }
    },
    {
      "cell_type": "code",
      "source": [
        "# 預測每人為異常 (abnormal_target=1) 的機率\n",
        "proba_weighted = log_model_weighted.predict_proba(X_pca_test)[:, 1]  # 取出第1類的機率\n",
        "\n",
        "# 建立 DataFrame 呈現結果（你也可以加上 ID、index 或其他欄位）\n",
        "import pandas as pd\n",
        "\n",
        "prob_df = pd.DataFrame({\n",
        "    '預測異常機率': proba_weighted,\n",
        "    '實際標籤': y_test.values\n",
        "})\n",
        "\n",
        "# 顯示前幾筆\n",
        "print(prob_df.head())\n",
        "\n",
        "# 如需排序（看誰最有可能異常）\n",
        "prob_df_sorted = prob_df.sort_values(by='預測異常機率', ascending=False)\n",
        "print(\"\\n🔍 機率最高的前幾位：\")\n",
        "print(prob_df_sorted.head())"
      ],
      "metadata": {
        "colab": {
          "base_uri": "https://localhost:8080/"
        },
        "id": "SpYs9SU9T5Np",
        "outputId": "84d3da58-9f72-4c23-e9b2-bae45db47ec0"
      },
      "execution_count": 9,
      "outputs": [
        {
          "output_type": "stream",
          "name": "stdout",
          "text": [
            "         預測異常機率  實際標籤\n",
            "0  2.262200e-04     0\n",
            "1  4.613391e-04     0\n",
            "2  6.942990e-10     0\n",
            "3  5.686727e-04     0\n",
            "4  1.510639e-04     0\n",
            "\n",
            "🔍 機率最高的前幾位：\n",
            "       預測異常機率  實際標籤\n",
            "587  0.998476     1\n",
            "450  0.994936     0\n",
            "259  0.993306     1\n",
            "280  0.992367     1\n",
            "778  0.931852     0\n"
          ]
        }
      ]
    }
  ]
}