{
  "nbformat": 4,
  "nbformat_minor": 0,
  "metadata": {
    "colab": {
      "provenance": []
    },
    "kernelspec": {
      "name": "python3",
      "display_name": "Python 3"
    },
    "language_info": {
      "name": "python"
    }
  },
  "cells": [
    {
      "cell_type": "markdown",
      "source": [
        "**做了四個方法**\n",
        "\n",
        "1.羅吉斯\n",
        "\n",
        "2.羅吉斯+PCA\n",
        "\n",
        "3.羅吉斯+PCA+加權(1:10)\n",
        "\n",
        "4.羅吉斯+PCA+SMOTE\n",
        "\n",
        "羅吉斯是直接讓模型跑，PCA保留全部主成分，有處理不平衡的表現比沒有的好很多，但仍存在FP跟FN。"
      ],
      "metadata": {
        "id": "htxKjnRIrypx"
      }
    },
    {
      "cell_type": "markdown",
      "source": [
        "###套件載入"
      ],
      "metadata": {
        "id": "sibUEsRhqx_5"
      }
    },
    {
      "cell_type": "code",
      "source": [
        "import pandas as pd\n",
        "from sklearn.pipeline import Pipeline\n",
        "from sklearn.decomposition import PCA\n",
        "from imblearn.over_sampling import SMOTE\n",
        "from sklearn.preprocessing import StandardScaler\n",
        "from sklearn.linear_model import LogisticRegression\n",
        "from sklearn.model_selection import train_test_split\n",
        "from sklearn.metrics import accuracy_score, classification_report, confusion_matrix"
      ],
      "metadata": {
        "id": "tYctzfcvbRil"
      },
      "execution_count": 15,
      "outputs": []
    },
    {
      "cell_type": "markdown",
      "source": [
        "###資料載入"
      ],
      "metadata": {
        "id": "aDV4d4quq50E"
      }
    },
    {
      "cell_type": "code",
      "source": [
        "file_path = \"/content/drive/MyDrive/filled_data_label_numeric.xlsx\"\n",
        "filled_data_label_numeric_df = pd.read_excel(file_path,engine='openpyxl')"
      ],
      "metadata": {
        "id": "oz83kmSNbZxB"
      },
      "execution_count": 10,
      "outputs": []
    },
    {
      "cell_type": "code",
      "execution_count": 11,
      "metadata": {
        "id": "2Umq9hzEaeVU",
        "colab": {
          "base_uri": "https://localhost:8080/"
        },
        "outputId": "edbda0e8-eb42-4ca0-8380-dcc085088160"
      },
      "outputs": [
        {
          "output_type": "stream",
          "name": "stdout",
          "text": [
            "訓練集大小: 3215, 測試集大小: 804\n"
          ]
        }
      ],
      "source": [
        "# 目標欄位\n",
        "target_col = \"abnormal_target\"\n",
        "\n",
        "# 特徵欄位\n",
        "X = filled_data_label_numeric_df.drop(columns=[target_col])\n",
        "\n",
        "# 目標變數\n",
        "y = filled_data_label_numeric_df[target_col]\n",
        "\n",
        "# 分割數據為訓練集和測試集（80%訓練，20%測試）\n",
        "X_train, X_test, y_train, y_test = train_test_split(X, y, test_size=0.2, random_state=42)\n",
        "\n",
        "print(f\"訓練集大小: {X_train.shape[0]}, 測試集大小: {X_test.shape[0]}\")"
      ]
    },
    {
      "cell_type": "markdown",
      "source": [
        "###PCA前的羅吉斯回歸"
      ],
      "metadata": {
        "id": "XDid0ux4q9Ki"
      }
    },
    {
      "cell_type": "code",
      "source": [
        "# 建立羅吉斯回歸模型\n",
        "log_model = LogisticRegression(max_iter=1000)\n",
        "log_model.fit(X_train, y_train)\n",
        "\n",
        "# 預測\n",
        "y_pred = log_model.predict(X_test)\n",
        "\n",
        "# 模型評估\n",
        "print(\"準確率 (Accuracy):\", accuracy_score(y_test, y_pred))\n",
        "print(\"\\n分類報告 (Classification Report):\\n\", classification_report(y_test, y_pred))\n",
        "print(\"\\n混淆矩陣 (Confusion Matrix):\\n\", confusion_matrix(y_test, y_pred))"
      ],
      "metadata": {
        "colab": {
          "base_uri": "https://localhost:8080/"
        },
        "id": "ZNEzWTDfoufB",
        "outputId": "934a819e-f0c1-4115-f84f-e1a6830247bc"
      },
      "execution_count": 14,
      "outputs": [
        {
          "output_type": "stream",
          "name": "stdout",
          "text": [
            "準確率 (Accuracy): 0.986318407960199\n",
            "\n",
            "分類報告 (Classification Report):\n",
            "               precision    recall  f1-score   support\n",
            "\n",
            "           0       0.99      1.00      0.99       795\n",
            "           1       0.25      0.11      0.15         9\n",
            "\n",
            "    accuracy                           0.99       804\n",
            "   macro avg       0.62      0.55      0.57       804\n",
            "weighted avg       0.98      0.99      0.98       804\n",
            "\n",
            "\n",
            "混淆矩陣 (Confusion Matrix):\n",
            " [[792   3]\n",
            " [  8   1]]\n"
          ]
        },
        {
          "output_type": "stream",
          "name": "stderr",
          "text": [
            "/usr/local/lib/python3.11/dist-packages/sklearn/linear_model/_logistic.py:465: ConvergenceWarning: lbfgs failed to converge (status=1):\n",
            "STOP: TOTAL NO. of ITERATIONS REACHED LIMIT.\n",
            "\n",
            "Increase the number of iterations (max_iter) or scale the data as shown in:\n",
            "    https://scikit-learn.org/stable/modules/preprocessing.html\n",
            "Please also refer to the documentation for alternative solver options:\n",
            "    https://scikit-learn.org/stable/modules/linear_model.html#logistic-regression\n",
            "  n_iter_i = _check_optimize_result(\n"
          ]
        }
      ]
    },
    {
      "cell_type": "markdown",
      "source": [
        "##PCA後的動作"
      ],
      "metadata": {
        "id": "WOMDmqwmrKUi"
      }
    },
    {
      "cell_type": "code",
      "source": [
        "scaler = StandardScaler()\n",
        "X_scaled = scaler.fit_transform(X)\n",
        "\n",
        "# 設定要保留的主成分數量，這裡設置為所有主成分\n",
        "pca = PCA(n_components=min(X_scaled.shape[0], X_scaled.shape[1]))\n",
        "X_pca = pca.fit_transform(X_scaled)\n",
        "\n",
        "# 查看每個主成分的解釋變異量\n",
        "print(\"解釋變異量：\", pca.explained_variance_ratio_)"
      ],
      "metadata": {
        "colab": {
          "base_uri": "https://localhost:8080/"
        },
        "id": "72OSApZjpTpz",
        "outputId": "7a5bc879-68fe-48be-de6f-a1ba92026142"
      },
      "execution_count": 17,
      "outputs": [
        {
          "output_type": "stream",
          "name": "stdout",
          "text": [
            "解釋變異量： [1.88340374e-01 6.53890992e-02 4.27871524e-02 3.85686355e-02\n",
            " 3.20250114e-02 2.61227411e-02 2.46467268e-02 1.98570294e-02\n",
            " 1.87718380e-02 1.75860429e-02 1.74815699e-02 1.71477908e-02\n",
            " 1.65428774e-02 1.61961702e-02 1.57757945e-02 1.56658593e-02\n",
            " 1.48977747e-02 1.45484508e-02 1.42738185e-02 1.40908583e-02\n",
            " 1.38373697e-02 1.36685375e-02 1.34631330e-02 1.29886078e-02\n",
            " 1.28493360e-02 1.26486871e-02 1.23333010e-02 1.20681684e-02\n",
            " 1.19699697e-02 1.17083945e-02 1.12684063e-02 1.10071940e-02\n",
            " 1.06443055e-02 1.04611527e-02 1.01174553e-02 1.00242615e-02\n",
            " 9.64570483e-03 9.43078096e-03 9.32221707e-03 8.85228819e-03\n",
            " 8.74935936e-03 8.70358974e-03 8.64991642e-03 8.35541199e-03\n",
            " 7.93140451e-03 7.69516212e-03 7.54484191e-03 7.23188470e-03\n",
            " 7.02158415e-03 6.82062964e-03 6.43738366e-03 6.42185437e-03\n",
            " 6.21698873e-03 6.06606613e-03 5.85557293e-03 5.15913432e-03\n",
            " 4.95396851e-03 4.04356299e-03 3.87308938e-03 3.52150466e-03\n",
            " 2.75361622e-03 2.19940864e-03 2.10993746e-03 1.85263028e-03\n",
            " 7.01201767e-04 1.05408974e-04 1.41250052e-17 6.78186554e-18\n",
            " 4.14338768e-18 3.18090820e-18 1.42792713e-18 9.16760659e-19\n",
            " 4.93753547e-20 0.00000000e+00 0.00000000e+00 0.00000000e+00\n",
            " 0.00000000e+00 0.00000000e+00 0.00000000e+00 0.00000000e+00\n",
            " 0.00000000e+00 0.00000000e+00 0.00000000e+00 0.00000000e+00\n",
            " 0.00000000e+00 0.00000000e+00 0.00000000e+00 0.00000000e+00\n",
            " 0.00000000e+00 0.00000000e+00 0.00000000e+00 0.00000000e+00\n",
            " 0.00000000e+00 0.00000000e+00 0.00000000e+00 0.00000000e+00\n",
            " 0.00000000e+00 0.00000000e+00 0.00000000e+00 0.00000000e+00\n",
            " 0.00000000e+00 0.00000000e+00 0.00000000e+00 0.00000000e+00\n",
            " 0.00000000e+00 0.00000000e+00 0.00000000e+00 0.00000000e+00\n",
            " 0.00000000e+00 0.00000000e+00 0.00000000e+00 0.00000000e+00\n",
            " 0.00000000e+00 0.00000000e+00 0.00000000e+00 0.00000000e+00]\n"
          ]
        }
      ]
    },
    {
      "cell_type": "markdown",
      "source": [
        "###純PCA+羅吉斯"
      ],
      "metadata": {
        "id": "1AZreTPtra7S"
      }
    },
    {
      "cell_type": "code",
      "source": [
        "# 分割 PCA 後的資料集\n",
        "X_pca_train, X_pca_test, y_train, y_test = train_test_split(X_pca, y, test_size=0.2, random_state=42)\n",
        "\n",
        "# 建立模型\n",
        "log_model = LogisticRegression(max_iter=1000, class_weight='balanced')\n",
        "log_model.fit(X_pca_train, y_train)\n",
        "\n",
        "# 預測\n",
        "y_pred = log_model.predict(X_pca_test)\n",
        "\n",
        "# 評估\n",
        "print(\"準確率 (Accuracy):\", accuracy_score(y_test, y_pred))\n",
        "print(\"\\n分類報告 (Classification Report):\\n\", classification_report(y_test, y_pred))\n",
        "print(\"\\n混淆矩陣 (Confusion Matrix):\\n\", confusion_matrix(y_test, y_pred))"
      ],
      "metadata": {
        "colab": {
          "base_uri": "https://localhost:8080/"
        },
        "id": "z8ZGwJ0rpzEB",
        "outputId": "c56d58ad-a0d0-43b3-bd0c-fc8f69e6b17f"
      },
      "execution_count": 18,
      "outputs": [
        {
          "output_type": "stream",
          "name": "stdout",
          "text": [
            "準確率 (Accuracy): 0.9875621890547264\n",
            "\n",
            "分類報告 (Classification Report):\n",
            "               precision    recall  f1-score   support\n",
            "\n",
            "           0       0.99      0.99      0.99       795\n",
            "           1       0.45      0.56      0.50         9\n",
            "\n",
            "    accuracy                           0.99       804\n",
            "   macro avg       0.72      0.77      0.75       804\n",
            "weighted avg       0.99      0.99      0.99       804\n",
            "\n",
            "\n",
            "混淆矩陣 (Confusion Matrix):\n",
            " [[789   6]\n",
            " [  4   5]]\n"
          ]
        }
      ]
    },
    {
      "cell_type": "markdown",
      "source": [
        "###PCA+羅吉斯+加權法處理不平衡(1:10)"
      ],
      "metadata": {
        "id": "svbqd-unrewC"
      }
    },
    {
      "cell_type": "code",
      "source": [
        "weights = {0: 1, 1: 10} #有問題的業務員加權10倍\n",
        "log_model_weighted = LogisticRegression(max_iter=1000, class_weight=weights)\n",
        "log_model_weighted.fit(X_pca_train, y_train)\n",
        "\n",
        "# 預測與評估\n",
        "y_pred_weighted = log_model_weighted.predict(X_pca_test)\n",
        "print(\"🔴 方法一：加權\")\n",
        "print(\"準確率:\", accuracy_score(y_test, y_pred_weighted))\n",
        "print(\"分類報告:\\n\", classification_report(y_test, y_pred_weighted))\n",
        "print(\"混淆矩陣:\\n\", confusion_matrix(y_test, y_pred_weighted))"
      ],
      "metadata": {
        "colab": {
          "base_uri": "https://localhost:8080/"
        },
        "id": "kPtW7kF8p0eE",
        "outputId": "f8d7d7a6-4945-40c6-be7b-f95f9d94c62a"
      },
      "execution_count": 34,
      "outputs": [
        {
          "output_type": "stream",
          "name": "stdout",
          "text": [
            "🔴 方法一：加權\n",
            "準確率: 0.9912935323383084\n",
            "分類報告:\n",
            "               precision    recall  f1-score   support\n",
            "\n",
            "           0       0.99      1.00      1.00       795\n",
            "           1       0.62      0.56      0.59         9\n",
            "\n",
            "    accuracy                           0.99       804\n",
            "   macro avg       0.81      0.78      0.79       804\n",
            "weighted avg       0.99      0.99      0.99       804\n",
            "\n",
            "混淆矩陣:\n",
            " [[792   3]\n",
            " [  4   5]]\n"
          ]
        }
      ]
    },
    {
      "cell_type": "markdown",
      "source": [
        "###PCA+羅吉斯+SMOTE重採樣"
      ],
      "metadata": {
        "id": "v9z6xZofrrQY"
      }
    },
    {
      "cell_type": "code",
      "source": [
        "# 重採樣\n",
        "smote = SMOTE(random_state=42)\n",
        "X_pca_train_res, y_train_res = smote.fit_resample(X_pca_train, y_train)\n",
        "\n",
        "# 訓練模型\n",
        "log_model_resampled = LogisticRegression(max_iter=1000)\n",
        "log_model_resampled.fit(X_pca_train_res, y_train_res)\n",
        "\n",
        "# 預測與評估\n",
        "y_pred_resampled = log_model_resampled.predict(X_pca_test)\n",
        "print(\"\\n🟢 方法二：SMOTE重採樣\")\n",
        "print(\"準確率:\", accuracy_score(y_test, y_pred_resampled))\n",
        "print(\"分類報告:\\n\", classification_report(y_test, y_pred_resampled))\n",
        "print(\"混淆矩陣:\\n\", confusion_matrix(y_test, y_pred_resampled))"
      ],
      "metadata": {
        "colab": {
          "base_uri": "https://localhost:8080/"
        },
        "id": "RlPbd6ZQqnSQ",
        "outputId": "ddad7de5-f872-4132-c677-25306fff6f3c"
      },
      "execution_count": 35,
      "outputs": [
        {
          "output_type": "stream",
          "name": "stdout",
          "text": [
            "\n",
            "🟢 方法二：SMOTE重採樣\n",
            "準確率: 0.9912935323383084\n",
            "分類報告:\n",
            "               precision    recall  f1-score   support\n",
            "\n",
            "           0       0.99      1.00      1.00       795\n",
            "           1       0.62      0.56      0.59         9\n",
            "\n",
            "    accuracy                           0.99       804\n",
            "   macro avg       0.81      0.78      0.79       804\n",
            "weighted avg       0.99      0.99      0.99       804\n",
            "\n",
            "混淆矩陣:\n",
            " [[792   3]\n",
            " [  4   5]]\n"
          ]
        }
      ]
    }
  ]
}